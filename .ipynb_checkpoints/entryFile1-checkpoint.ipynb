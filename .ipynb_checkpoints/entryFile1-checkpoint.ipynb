{
 "cells": [
  {
   "cell_type": "markdown",
   "metadata": {},
   "source": [
    "### PRoject objectives\n",
    "\n",
    "- An API driven recommendation system that can be actedupon incongruently(dynamically) \n",
    "- pretrain the data using a sample data - <<<<< \n",
    "- sample dataset from kaggle.io\n",
    "\n",
    "\n",
    "Params definition\n",
    "- AGE: Customer's age\n",
    "- GENDER: Customer's gender (0: Male, 1: Female)\n",
    "- Annual Income: Annual income of the customer in dollars\n",
    "- NUMBER OF PURCHASES: Total number of purchases made by the customer\n",
    "- PRODUCT CATEGORY: Category of the purchased product (0: Electronics, 1: Clothing, 2: Home Goods, 3: Beauty, 4: Sports)\n",
    "- Time Spent on Website: Time spent by the customer on the website in minutes\n",
    "- Loyalty Program: Whether the customer is a member of the loyalty program (0: No, 1: Yes)\n",
    "- Discounts Availed: Number of discounts availed by the customer (range: 0-5)\n",
    "- PURCHASE STATUS (Target Variable): Likelihood of the customer making a purchase (0: No, 1: Yes)\n",
    "\n",
    "PROBLEM STATEMENT\n",
    "Recommend a product to a customer depending on his age or/gender.."
   ]
  },
  {
   "cell_type": "code",
   "execution_count": 1,
   "metadata": {},
   "outputs": [],
   "source": [
    "import numpy as np\n",
    "import pandas as pd\n",
    "from sklearn.model_selection import train_test_split\n",
    "from sklearn.preprocessing import PolynomialFeatures, LabelEncoder\n",
    "from sklearn.linear_model import LogisticRegression\n",
    "from sklearn.ensemble import RandomForestClassifier\n",
    "from sklearn.metrics import accuracy_score, classification_report, confusion_matrix\n",
    "from xgboost import XGBClassifier\n",
    "\n",
    "import seaborn as sb\n",
    "import matplotlib.pyplot as plt\n",
    "%matplotlib inline"
   ]
  },
  {
   "cell_type": "code",
   "execution_count": 2,
   "metadata": {},
   "outputs": [
    {
     "data": {
      "text/html": [
       "<div>\n",
       "<style scoped>\n",
       "    .dataframe tbody tr th:only-of-type {\n",
       "        vertical-align: middle;\n",
       "    }\n",
       "\n",
       "    .dataframe tbody tr th {\n",
       "        vertical-align: top;\n",
       "    }\n",
       "\n",
       "    .dataframe thead th {\n",
       "        text-align: right;\n",
       "    }\n",
       "</style>\n",
       "<table border=\"1\" class=\"dataframe\">\n",
       "  <thead>\n",
       "    <tr style=\"text-align: right;\">\n",
       "      <th></th>\n",
       "      <th>Age</th>\n",
       "      <th>Gender</th>\n",
       "      <th>NumberOfPurchases</th>\n",
       "      <th>ProductCategory</th>\n",
       "    </tr>\n",
       "  </thead>\n",
       "  <tbody>\n",
       "    <tr>\n",
       "      <th>0</th>\n",
       "      <td>40</td>\n",
       "      <td>1</td>\n",
       "      <td>8</td>\n",
       "      <td>0</td>\n",
       "    </tr>\n",
       "    <tr>\n",
       "      <th>1</th>\n",
       "      <td>20</td>\n",
       "      <td>1</td>\n",
       "      <td>4</td>\n",
       "      <td>2</td>\n",
       "    </tr>\n",
       "    <tr>\n",
       "      <th>2</th>\n",
       "      <td>27</td>\n",
       "      <td>1</td>\n",
       "      <td>11</td>\n",
       "      <td>2</td>\n",
       "    </tr>\n",
       "    <tr>\n",
       "      <th>3</th>\n",
       "      <td>24</td>\n",
       "      <td>1</td>\n",
       "      <td>19</td>\n",
       "      <td>3</td>\n",
       "    </tr>\n",
       "    <tr>\n",
       "      <th>4</th>\n",
       "      <td>31</td>\n",
       "      <td>1</td>\n",
       "      <td>19</td>\n",
       "      <td>1</td>\n",
       "    </tr>\n",
       "  </tbody>\n",
       "</table>\n",
       "</div>"
      ],
      "text/plain": [
       "   Age  Gender  NumberOfPurchases  ProductCategory\n",
       "0   40       1                  8                0\n",
       "1   20       1                  4                2\n",
       "2   27       1                 11                2\n",
       "3   24       1                 19                3\n",
       "4   31       1                 19                1"
      ]
     },
     "execution_count": 2,
     "metadata": {},
     "output_type": "execute_result"
    }
   ],
   "source": [
    "# we are usnig the customer_purchase dataset\n",
    "\n",
    "data = pd.read_csv('customer_purchase_data.csv')\n",
    "data = data[['Age', 'Gender', 'NumberOfPurchases', 'ProductCategory']]\n",
    "\n",
    "\n",
    "data.head()"
   ]
  },
  {
   "cell_type": "code",
   "execution_count": 3,
   "metadata": {},
   "outputs": [
    {
     "data": {
      "text/plain": [
       "ProductCategory\n",
       "1    331\n",
       "4    321\n",
       "0    289\n",
       "3    286\n",
       "2    273\n",
       "Name: count, dtype: int64"
      ]
     },
     "execution_count": 3,
     "metadata": {},
     "output_type": "execute_result"
    }
   ],
   "source": [
    "data.ProductCategory.value_counts()"
   ]
  },
  {
   "cell_type": "code",
   "execution_count": 4,
   "metadata": {},
   "outputs": [
    {
     "data": {
      "text/html": [
       "<div>\n",
       "<style scoped>\n",
       "    .dataframe tbody tr th:only-of-type {\n",
       "        vertical-align: middle;\n",
       "    }\n",
       "\n",
       "    .dataframe tbody tr th {\n",
       "        vertical-align: top;\n",
       "    }\n",
       "\n",
       "    .dataframe thead th {\n",
       "        text-align: right;\n",
       "    }\n",
       "</style>\n",
       "<table border=\"1\" class=\"dataframe\">\n",
       "  <thead>\n",
       "    <tr style=\"text-align: right;\">\n",
       "      <th></th>\n",
       "      <th>Age</th>\n",
       "      <th>Gender</th>\n",
       "      <th>NumberOfPurchases</th>\n",
       "      <th>ProductCategory</th>\n",
       "    </tr>\n",
       "  </thead>\n",
       "  <tbody>\n",
       "    <tr>\n",
       "      <th>Age</th>\n",
       "      <td>1.000000</td>\n",
       "      <td>0.022055</td>\n",
       "      <td>-0.038778</td>\n",
       "      <td>-0.020767</td>\n",
       "    </tr>\n",
       "    <tr>\n",
       "      <th>Gender</th>\n",
       "      <td>0.022055</td>\n",
       "      <td>1.000000</td>\n",
       "      <td>0.001373</td>\n",
       "      <td>-0.028572</td>\n",
       "    </tr>\n",
       "    <tr>\n",
       "      <th>NumberOfPurchases</th>\n",
       "      <td>-0.038778</td>\n",
       "      <td>0.001373</td>\n",
       "      <td>1.000000</td>\n",
       "      <td>0.006270</td>\n",
       "    </tr>\n",
       "    <tr>\n",
       "      <th>ProductCategory</th>\n",
       "      <td>-0.020767</td>\n",
       "      <td>-0.028572</td>\n",
       "      <td>0.006270</td>\n",
       "      <td>1.000000</td>\n",
       "    </tr>\n",
       "  </tbody>\n",
       "</table>\n",
       "</div>"
      ],
      "text/plain": [
       "                        Age    Gender  NumberOfPurchases  ProductCategory\n",
       "Age                1.000000  0.022055          -0.038778        -0.020767\n",
       "Gender             0.022055  1.000000           0.001373        -0.028572\n",
       "NumberOfPurchases -0.038778  0.001373           1.000000         0.006270\n",
       "ProductCategory   -0.020767 -0.028572           0.006270         1.000000"
      ]
     },
     "execution_count": 4,
     "metadata": {},
     "output_type": "execute_result"
    }
   ],
   "source": [
    "data.corr()"
   ]
  },
  {
   "cell_type": "markdown",
   "metadata": {},
   "source": [
    "**The differnt catagories seem to be reprisented farly**"
   ]
  },
  {
   "cell_type": "code",
   "execution_count": 5,
   "metadata": {},
   "outputs": [],
   "source": [
    "# Define bins and labels\n",
    "bins = [0, 18, 24, 34, 44, 54, 64, 100]  # 8 edges\n",
    "labels = ['0-17', '18-24', '25-34', '35-44', '45-54', '55-64', '65+']  # 7 labels\n",
    "\n",
    "# Create the AgeGroup feature\n",
    "data['AgeGroup'] = pd.cut(data['Age'], bins=bins, labels=labels, right=False)"
   ]
  },
  {
   "cell_type": "code",
   "execution_count": 6,
   "metadata": {},
   "outputs": [
    {
     "data": {
      "text/plain": [
       "AgeGroup\n",
       "45-54    295\n",
       "35-44    281\n",
       "25-34    255\n",
       "55-64    253\n",
       "65+      231\n",
       "18-24    185\n",
       "0-17       0\n",
       "Name: count, dtype: int64"
      ]
     },
     "execution_count": 6,
     "metadata": {},
     "output_type": "execute_result"
    }
   ],
   "source": [
    "data['AgeGroup'].value_counts()"
   ]
  },
  {
   "cell_type": "code",
   "execution_count": 7,
   "metadata": {},
   "outputs": [],
   "source": [
    "# Strip any whitespace from the AgeGroup labels (if any)\n",
    "data['AgeGroup'] = data['AgeGroup'].str.strip()"
   ]
  },
  {
   "cell_type": "code",
   "execution_count": 8,
   "metadata": {},
   "outputs": [],
   "source": [
    "# Filter out the '0-17' age group\n",
    "data = data[data['AgeGroup'] != '0-17']"
   ]
  },
  {
   "cell_type": "code",
   "execution_count": 9,
   "metadata": {},
   "outputs": [],
   "source": [
    "# Initialize the LabelEncoder\n",
    "label_encoder = LabelEncoder()\n",
    "\n",
    "# Fit and transform the AgeGroup column\n",
    "data['AgeGroupEncoded'] = label_encoder.fit_transform(data['AgeGroup'])"
   ]
  },
  {
   "cell_type": "code",
   "execution_count": 10,
   "metadata": {},
   "outputs": [],
   "source": [
    "data['AvgPurchasesByAgeGroup'] = data.groupby('AgeGroup')['NumberOfPurchases'].transform('mean')"
   ]
  },
  {
   "cell_type": "code",
   "execution_count": 22,
   "metadata": {},
   "outputs": [
    {
     "data": {
      "text/plain": [
       "Age  Gender\n",
       "50   0         28\n",
       "68   0         26\n",
       "64   1         24\n",
       "41   1         23\n",
       "22   0         22\n",
       "               ..\n",
       "27   1          8\n",
       "63   1          7\n",
       "59   1          7\n",
       "67   0          6\n",
       "60   1          6\n",
       "Name: count, Length: 106, dtype: int64"
      ]
     },
     "execution_count": 22,
     "metadata": {},
     "output_type": "execute_result"
    }
   ],
   "source": [
    "data[['Age', 'Gender']].value_counts()"
   ]
  },
  {
   "cell_type": "code",
   "execution_count": 24,
   "metadata": {},
   "outputs": [
    {
     "data": {
      "text/plain": [
       "ProductCategory  Gender\n",
       "1                0         171\n",
       "0                1         163\n",
       "4                1         163\n",
       "1                1         160\n",
       "4                0         158\n",
       "3                0         147\n",
       "2                0         141\n",
       "3                1         139\n",
       "2                1         132\n",
       "0                0         126\n",
       "Name: count, dtype: int64"
      ]
     },
     "execution_count": 24,
     "metadata": {},
     "output_type": "execute_result"
    }
   ],
   "source": [
    "data[['ProductCategory', 'Gender']].value_counts()"
   ]
  },
  {
   "cell_type": "code",
   "execution_count": 20,
   "metadata": {},
   "outputs": [
    {
     "data": {
      "image/png": "[encoded data removed]",
      "text/plain": [
       "<Figure size 640x480 with 1 Axes>"
      ]
     },
     "metadata": {},
     "output_type": "display_data"
    }
   ],
   "source": [
    "sb.histplot(data['AgeGroup']);"
   ]
  },
  {
   "cell_type": "code",
   "execution_count": 19,
   "metadata": {},
   "outputs": [
    {
     "data": {
      "image/png": "[encoded data removed]",
      "text/plain": [
       "<Figure size 640x480 with 1 Axes>"
      ]
     },
     "metadata": {},
     "output_type": "display_data"
    }
   ],
   "source": [
    "sb.histplot(data['Age']);"
   ]
  },
  {
   "cell_type": "code",
   "execution_count": 18,
   "metadata": {},
   "outputs": [
    {
     "data": {
      "image/png": "[encoded data removed]",
      "text/plain": [
       "<Figure size 640x480 with 1 Axes>"
      ]
     },
     "metadata": {},
     "output_type": "display_data"
    }
   ],
   "source": [
    "sb.histplot(data['NumberOfPurchases']);"
   ]
  },
  {
   "cell_type": "code",
   "execution_count": 17,
   "metadata": {},
   "outputs": [
    {
     "data": {
      "image/png": "[encoded data removed]",
      "text/plain": [
       "<Figure size 640x480 with 1 Axes>"
      ]
     },
     "metadata": {},
     "output_type": "display_data"
    }
   ],
   "source": [
    "sb.histplot(data['Gender']);"
   ]
  },
  {
   "cell_type": "code",
   "execution_count": 16,
   "metadata": {},
   "outputs": [
    {
     "data": {
      "image/png": "[encoded data removed]",
      "text/plain": [
       "<Figure size 640x480 with 1 Axes>"
      ]
     },
     "metadata": {},
     "output_type": "display_data"
    }
   ],
   "source": [
    "sb.histplot(data['AvgPurchasesByAgeGroup']);"
   ]
  },
  {
   "cell_type": "code",
   "execution_count": 15,
   "metadata": {},
   "outputs": [
    {
     "data": {
      "image/png": "[encoded data removed]",
      "text/plain": [
       "<Figure size 640x480 with 1 Axes>"
      ]
     },
     "metadata": {},
     "output_type": "display_data"
    }
   ],
   "source": [
    "sb.histplot(data['AgeGroupEncoded']);"
   ]
  },
  {
   "cell_type": "code",
   "execution_count": 41,
   "metadata": {},
   "outputs": [
    {
     "name": "stdout",
     "output_type": "stream",
     "text": [
      "<class 'pandas.core.frame.DataFrame'>\n",
      "RangeIndex: 1500 entries, 0 to 1499\n",
      "Data columns (total 7 columns):\n",
      " #   Column                  Non-Null Count  Dtype  \n",
      "---  ------                  --------------  -----  \n",
      " 0   Age                     1500 non-null   int64  \n",
      " 1   Gender                  1500 non-null   int64  \n",
      " 2   NumberOfPurchases       1500 non-null   int64  \n",
      " 3   ProductCategory         1500 non-null   int64  \n",
      " 4   AgeGroup                1500 non-null   object \n",
      " 5   AgeGroupEncoded         1500 non-null   int64  \n",
      " 6   AvgPurchasesByAgeGroup  1500 non-null   float64\n",
      "dtypes: float64(1), int64(5), object(1)\n",
      "memory usage: 82.2+ KB\n"
     ]
    }
   ],
   "source": [
    "data.info()"
   ]
  },
  {
   "cell_type": "code",
   "execution_count": 42,
   "metadata": {},
   "outputs": [],
   "source": [
    "data.to_csv(\"Training_wk.csv\", index=False)"
   ]
  },
  {
   "cell_type": "code",
   "execution_count": 38,
   "metadata": {},
   "outputs": [],
   "source": [
    "# X and y\n",
    "X = data.drop([\"ProductCategory\",\"AgeGroup\"], axis=1)\n",
    "y = data[\"ProductCategory\"]\n",
    "\n",
    "# train test split\n",
    "X_train, X_test, y_train, y_test=train_test_split(X, y, test_size=0.2, random_state=42)"
   ]
  },
  {
   "cell_type": "code",
   "execution_count": 39,
   "metadata": {},
   "outputs": [
    {
     "name": "stdout",
     "output_type": "stream",
     "text": [
      "                                     Feature  Importance\n",
      "12             Gender AvgPurchasesByAgeGroup    0.127674\n",
      "14  NumberOfPurchases AvgPurchasesByAgeGroup    0.106311\n",
      "13         NumberOfPurchases AgeGroupEncoded    0.105287\n",
      "7                      Age NumberOfPurchases    0.097147\n",
      "10                  Gender NumberOfPurchases    0.094035\n",
      "6                                 Age Gender    0.092582\n",
      "9                 Age AvgPurchasesByAgeGroup    0.088513\n",
      "1                                        Age    0.083177\n",
      "5                     AvgPurchasesByAgeGroup    0.075841\n",
      "3                          NumberOfPurchases    0.071783\n",
      "2                                     Gender    0.057649\n"
     ]
    }
   ],
   "source": [
    "# Split the data into training and testing sets\n",
    "X_train, X_test, y_train, y_test = train_test_split(X, y, test_size=0.2, random_state=42)\n",
    "\n",
    "# Generate polynomial features\n",
    "p_features = PolynomialFeatures(degree=2, interaction_only=True)\n",
    "X_train_poly = p_features.fit_transform(X_train)\n",
    "X_test_poly = p_features.transform(X_test)\n",
    "\n",
    "# Fit the XGBoost model\n",
    "model = XGBClassifier()\n",
    "model.fit(X_train_poly, y_train)\n",
    "\n",
    "# Evaluate feature importance\n",
    "importance = model.feature_importances_\n",
    "\n",
    "# Create a DataFrame to display feature names and their importance\n",
    "feature_names = p_features.get_feature_names_out(input_features=X.columns)\n",
    "importance_df = pd.DataFrame({'Feature': feature_names, 'Importance': importance})\n",
    "\n",
    "# Sort the features by importance\n",
    "importance_df = importance_df.sort_values(by='Importance', ascending=False)\n",
    "\n",
    "# Display the feature importance\n",
    "print(importance_df[importance_df[\"Importance\"] > 0])"
   ]
  },
  {
   "cell_type": "code",
   "execution_count": 40,
   "metadata": {},
   "outputs": [
    {
     "data": {
      "text/plain": [
       "0.26"
      ]
     },
     "execution_count": 40,
     "metadata": {},
     "output_type": "execute_result"
    }
   ],
   "source": [
    "y_prediction = model.predict(X_test_poly)\n",
    "#y_prediction = catboost_model.predict(X_test_poly)\n",
    "acc = accuracy_score(y_test, y_prediction)\n",
    "\n",
    "acc"
   ]
  },
  {
   "cell_type": "code",
   "execution_count": 43,
   "metadata": {},
   "outputs": [
    {
     "name": "stdout",
     "output_type": "stream",
     "text": [
      "Classification Report:\n",
      "              precision    recall  f1-score   support\n",
      "\n",
      "           0       0.35      0.27      0.31        67\n",
      "           1       0.27      0.30      0.28        64\n",
      "           2       0.22      0.24      0.23        54\n",
      "           3       0.26      0.26      0.26        53\n",
      "           4       0.21      0.23      0.22        62\n",
      "\n",
      "    accuracy                           0.26       300\n",
      "   macro avg       0.26      0.26      0.26       300\n",
      "weighted avg       0.27      0.26      0.26       300\n",
      "\n"
     ]
    }
   ],
   "source": [
    "# Generate classification report\n",
    "report = classification_report(y_test, y_prediction)\n",
    "print(\"Classification Report:\")\n",
    "print(report)"
   ]
  },
  {
   "cell_type": "code",
   "execution_count": null,
   "metadata": {},
   "outputs": [],
   "source": []
  }
 ],
 "metadata": {
  "kernelspec": {
   "display_name": "Python 3 (ipykernel)",
   "language": "python",
   "name": "python3"
  },
  "language_info": {
   "codemirror_mode": {
    "name": "ipython",
    "version": 3
   },
   "file_extension": ".py",
   "mimetype": "text/x-python",
   "name": "python",
   "nbconvert_exporter": "python",
   "pygments_lexer": "ipython3",
   "version": "3.12.3"
  }
 },
 "nbformat": 4,
 "nbformat_minor": 4
}
